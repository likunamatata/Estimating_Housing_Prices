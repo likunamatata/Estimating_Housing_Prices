{
 "cells": [
  {
   "cell_type": "markdown",
   "metadata": {},
   "source": [
    "Student name: Lia Kapanadze\n",
    "\n",
    "Student pace: part time\n",
    "\n",
    "Scheduled project review date/time: 4/12/19\n",
    "\n",
    "Instructor name: Brandon Lewis\n",
    "\n",
    "Blog post URL:https://medium.com/@likunak/sanity-checking-data-460637c556ce"
   ]
  },
  {
   "cell_type": "markdown",
   "metadata": {},
   "source": [
    "##### Project Summary\n",
    "\n",
    "* Step 0: Import and Display Raw Data\n",
    "\n",
    "* Step 1: Clean Up Data\n",
    "\n",
    "* Step 2: Explore and Further Clean Up\n",
    "\n",
    "* Step 3: Determine Hypotheses (Business Questions)\n",
    "\n",
    "* Step 4: Develop the Model\n",
    "\n",
    "* Step 5: Interpret the Output\n",
    "\n",
    "* Further improvements for the future:\n",
    "    - refine the model\n",
    "    - cross validation"
   ]
  },
  {
   "cell_type": "markdown",
   "metadata": {},
   "source": [
    "## Step 0: Import and Display Raw Data\n",
    "* import the csv file\n",
    "* take a look at the content, size, and quick statistics of the variables and values included\n",
    "* come up with a plan to clean the data"
   ]
  },
  {
   "cell_type": "code",
   "execution_count": 71,
   "metadata": {},
   "outputs": [],
   "source": [
    "#import all necessary libraries\n",
    "import pandas as pd #to read csv files and work with dataframes\n",
    "import matplotlib.pyplot as plt\n",
    "%matplotlib inline"
   ]
  },
  {
   "cell_type": "code",
   "execution_count": 72,
   "metadata": {},
   "outputs": [
    {
     "name": "stdout",
     "output_type": "stream",
     "text": [
      "we just imported a file with 21597 rows\n"
     ]
    },
    {
     "data": {
      "text/html": [
       "<div>\n",
       "<style scoped>\n",
       "    .dataframe tbody tr th:only-of-type {\n",
       "        vertical-align: middle;\n",
       "    }\n",
       "\n",
       "    .dataframe tbody tr th {\n",
       "        vertical-align: top;\n",
       "    }\n",
       "\n",
       "    .dataframe thead th {\n",
       "        text-align: right;\n",
       "    }\n",
       "</style>\n",
       "<table border=\"1\" class=\"dataframe\">\n",
       "  <thead>\n",
       "    <tr style=\"text-align: right;\">\n",
       "      <th></th>\n",
       "      <th>id</th>\n",
       "      <th>date</th>\n",
       "      <th>price</th>\n",
       "      <th>bedrooms</th>\n",
       "      <th>bathrooms</th>\n",
       "      <th>sqft_living</th>\n",
       "      <th>sqft_lot</th>\n",
       "      <th>floors</th>\n",
       "      <th>waterfront</th>\n",
       "      <th>view</th>\n",
       "      <th>...</th>\n",
       "      <th>grade</th>\n",
       "      <th>sqft_above</th>\n",
       "      <th>sqft_basement</th>\n",
       "      <th>yr_built</th>\n",
       "      <th>yr_renovated</th>\n",
       "      <th>zipcode</th>\n",
       "      <th>lat</th>\n",
       "      <th>long</th>\n",
       "      <th>sqft_living15</th>\n",
       "      <th>sqft_lot15</th>\n",
       "    </tr>\n",
       "  </thead>\n",
       "  <tbody>\n",
       "    <tr>\n",
       "      <th>0</th>\n",
       "      <td>7129300520</td>\n",
       "      <td>10/13/2014</td>\n",
       "      <td>221900.0</td>\n",
       "      <td>3</td>\n",
       "      <td>1.00</td>\n",
       "      <td>1180</td>\n",
       "      <td>5650</td>\n",
       "      <td>1.0</td>\n",
       "      <td>NaN</td>\n",
       "      <td>0.0</td>\n",
       "      <td>...</td>\n",
       "      <td>7</td>\n",
       "      <td>1180</td>\n",
       "      <td>0.0</td>\n",
       "      <td>1955</td>\n",
       "      <td>0.0</td>\n",
       "      <td>98178</td>\n",
       "      <td>47.5112</td>\n",
       "      <td>-122.257</td>\n",
       "      <td>1340</td>\n",
       "      <td>5650</td>\n",
       "    </tr>\n",
       "    <tr>\n",
       "      <th>1</th>\n",
       "      <td>6414100192</td>\n",
       "      <td>12/9/2014</td>\n",
       "      <td>538000.0</td>\n",
       "      <td>3</td>\n",
       "      <td>2.25</td>\n",
       "      <td>2570</td>\n",
       "      <td>7242</td>\n",
       "      <td>2.0</td>\n",
       "      <td>0.0</td>\n",
       "      <td>0.0</td>\n",
       "      <td>...</td>\n",
       "      <td>7</td>\n",
       "      <td>2170</td>\n",
       "      <td>400.0</td>\n",
       "      <td>1951</td>\n",
       "      <td>1991.0</td>\n",
       "      <td>98125</td>\n",
       "      <td>47.7210</td>\n",
       "      <td>-122.319</td>\n",
       "      <td>1690</td>\n",
       "      <td>7639</td>\n",
       "    </tr>\n",
       "    <tr>\n",
       "      <th>2</th>\n",
       "      <td>5631500400</td>\n",
       "      <td>2/25/2015</td>\n",
       "      <td>180000.0</td>\n",
       "      <td>2</td>\n",
       "      <td>1.00</td>\n",
       "      <td>770</td>\n",
       "      <td>10000</td>\n",
       "      <td>1.0</td>\n",
       "      <td>0.0</td>\n",
       "      <td>0.0</td>\n",
       "      <td>...</td>\n",
       "      <td>6</td>\n",
       "      <td>770</td>\n",
       "      <td>0.0</td>\n",
       "      <td>1933</td>\n",
       "      <td>NaN</td>\n",
       "      <td>98028</td>\n",
       "      <td>47.7379</td>\n",
       "      <td>-122.233</td>\n",
       "      <td>2720</td>\n",
       "      <td>8062</td>\n",
       "    </tr>\n",
       "    <tr>\n",
       "      <th>3</th>\n",
       "      <td>2487200875</td>\n",
       "      <td>12/9/2014</td>\n",
       "      <td>604000.0</td>\n",
       "      <td>4</td>\n",
       "      <td>3.00</td>\n",
       "      <td>1960</td>\n",
       "      <td>5000</td>\n",
       "      <td>1.0</td>\n",
       "      <td>0.0</td>\n",
       "      <td>0.0</td>\n",
       "      <td>...</td>\n",
       "      <td>7</td>\n",
       "      <td>1050</td>\n",
       "      <td>910.0</td>\n",
       "      <td>1965</td>\n",
       "      <td>0.0</td>\n",
       "      <td>98136</td>\n",
       "      <td>47.5208</td>\n",
       "      <td>-122.393</td>\n",
       "      <td>1360</td>\n",
       "      <td>5000</td>\n",
       "    </tr>\n",
       "    <tr>\n",
       "      <th>4</th>\n",
       "      <td>1954400510</td>\n",
       "      <td>2/18/2015</td>\n",
       "      <td>510000.0</td>\n",
       "      <td>3</td>\n",
       "      <td>2.00</td>\n",
       "      <td>1680</td>\n",
       "      <td>8080</td>\n",
       "      <td>1.0</td>\n",
       "      <td>0.0</td>\n",
       "      <td>0.0</td>\n",
       "      <td>...</td>\n",
       "      <td>8</td>\n",
       "      <td>1680</td>\n",
       "      <td>0.0</td>\n",
       "      <td>1987</td>\n",
       "      <td>0.0</td>\n",
       "      <td>98074</td>\n",
       "      <td>47.6168</td>\n",
       "      <td>-122.045</td>\n",
       "      <td>1800</td>\n",
       "      <td>7503</td>\n",
       "    </tr>\n",
       "  </tbody>\n",
       "</table>\n",
       "<p>5 rows × 21 columns</p>\n",
       "</div>"
      ],
      "text/plain": [
       "           id        date     price  bedrooms  bathrooms  sqft_living  \\\n",
       "0  7129300520  10/13/2014  221900.0         3       1.00         1180   \n",
       "1  6414100192   12/9/2014  538000.0         3       2.25         2570   \n",
       "2  5631500400   2/25/2015  180000.0         2       1.00          770   \n",
       "3  2487200875   12/9/2014  604000.0         4       3.00         1960   \n",
       "4  1954400510   2/18/2015  510000.0         3       2.00         1680   \n",
       "\n",
       "   sqft_lot  floors  waterfront  view     ...      grade  sqft_above  \\\n",
       "0      5650     1.0         NaN   0.0     ...          7        1180   \n",
       "1      7242     2.0         0.0   0.0     ...          7        2170   \n",
       "2     10000     1.0         0.0   0.0     ...          6         770   \n",
       "3      5000     1.0         0.0   0.0     ...          7        1050   \n",
       "4      8080     1.0         0.0   0.0     ...          8        1680   \n",
       "\n",
       "   sqft_basement yr_built  yr_renovated  zipcode      lat     long  \\\n",
       "0            0.0     1955           0.0    98178  47.5112 -122.257   \n",
       "1          400.0     1951        1991.0    98125  47.7210 -122.319   \n",
       "2            0.0     1933           NaN    98028  47.7379 -122.233   \n",
       "3          910.0     1965           0.0    98136  47.5208 -122.393   \n",
       "4            0.0     1987           0.0    98074  47.6168 -122.045   \n",
       "\n",
       "   sqft_living15  sqft_lot15  \n",
       "0           1340        5650  \n",
       "1           1690        7639  \n",
       "2           2720        8062  \n",
       "3           1360        5000  \n",
       "4           1800        7503  \n",
       "\n",
       "[5 rows x 21 columns]"
      ]
     },
     "execution_count": 72,
     "metadata": {},
     "output_type": "execute_result"
    }
   ],
   "source": [
    "#import data file\n",
    "df = pd.read_csv('kc_house_data.csv')\n",
    "print(\"we just imported a file with \" +str(len(df))+\" rows\")\n",
    "df.head()"
   ]
  },
  {
   "cell_type": "markdown",
   "metadata": {},
   "source": [
    "Below is the overview of its contents"
   ]
  },
  {
   "cell_type": "code",
   "execution_count": 5,
   "metadata": {
    "scrolled": true
   },
   "outputs": [
    {
     "name": "stdout",
     "output_type": "stream",
     "text": [
      "<class 'pandas.core.frame.DataFrame'>\n",
      "RangeIndex: 21597 entries, 0 to 21596\n",
      "Data columns (total 21 columns):\n",
      "id               21597 non-null int64\n",
      "date             21597 non-null object\n",
      "price            21597 non-null float64\n",
      "bedrooms         21597 non-null int64\n",
      "bathrooms        21597 non-null float64\n",
      "sqft_living      21597 non-null int64\n",
      "sqft_lot         21597 non-null int64\n",
      "floors           21597 non-null float64\n",
      "waterfront       19221 non-null float64\n",
      "view             21534 non-null float64\n",
      "condition        21597 non-null int64\n",
      "grade            21597 non-null int64\n",
      "sqft_above       21597 non-null int64\n",
      "sqft_basement    21597 non-null object\n",
      "yr_built         21597 non-null int64\n",
      "yr_renovated     17755 non-null float64\n",
      "zipcode          21597 non-null int64\n",
      "lat              21597 non-null float64\n",
      "long             21597 non-null float64\n",
      "sqft_living15    21597 non-null int64\n",
      "sqft_lot15       21597 non-null int64\n",
      "dtypes: float64(8), int64(11), object(2)\n",
      "memory usage: 3.5+ MB\n"
     ]
    }
   ],
   "source": [
    "df.info()"
   ]
  },
  {
   "cell_type": "markdown",
   "metadata": {},
   "source": [
    "Below is the summary of values for each variable/column"
   ]
  },
  {
   "cell_type": "code",
   "execution_count": 6,
   "metadata": {
    "scrolled": false
   },
   "outputs": [
    {
     "data": {
      "text/html": [
       "<div>\n",
       "<style scoped>\n",
       "    .dataframe tbody tr th:only-of-type {\n",
       "        vertical-align: middle;\n",
       "    }\n",
       "\n",
       "    .dataframe tbody tr th {\n",
       "        vertical-align: top;\n",
       "    }\n",
       "\n",
       "    .dataframe thead th {\n",
       "        text-align: right;\n",
       "    }\n",
       "</style>\n",
       "<table border=\"1\" class=\"dataframe\">\n",
       "  <thead>\n",
       "    <tr style=\"text-align: right;\">\n",
       "      <th></th>\n",
       "      <th>id</th>\n",
       "      <th>price</th>\n",
       "      <th>bedrooms</th>\n",
       "      <th>bathrooms</th>\n",
       "      <th>sqft_living</th>\n",
       "      <th>sqft_lot</th>\n",
       "      <th>floors</th>\n",
       "      <th>waterfront</th>\n",
       "      <th>view</th>\n",
       "      <th>condition</th>\n",
       "      <th>grade</th>\n",
       "      <th>sqft_above</th>\n",
       "      <th>yr_built</th>\n",
       "      <th>yr_renovated</th>\n",
       "      <th>zipcode</th>\n",
       "      <th>lat</th>\n",
       "      <th>long</th>\n",
       "      <th>sqft_living15</th>\n",
       "      <th>sqft_lot15</th>\n",
       "    </tr>\n",
       "  </thead>\n",
       "  <tbody>\n",
       "    <tr>\n",
       "      <th>count</th>\n",
       "      <td>2.159700e+04</td>\n",
       "      <td>2.159700e+04</td>\n",
       "      <td>21597.000000</td>\n",
       "      <td>21597.000000</td>\n",
       "      <td>21597.000000</td>\n",
       "      <td>2.159700e+04</td>\n",
       "      <td>21597.000000</td>\n",
       "      <td>19221.000000</td>\n",
       "      <td>21534.000000</td>\n",
       "      <td>21597.000000</td>\n",
       "      <td>21597.000000</td>\n",
       "      <td>21597.000000</td>\n",
       "      <td>21597.000000</td>\n",
       "      <td>17755.000000</td>\n",
       "      <td>21597.000000</td>\n",
       "      <td>21597.000000</td>\n",
       "      <td>21597.000000</td>\n",
       "      <td>21597.000000</td>\n",
       "      <td>21597.000000</td>\n",
       "    </tr>\n",
       "    <tr>\n",
       "      <th>mean</th>\n",
       "      <td>4.580474e+09</td>\n",
       "      <td>5.402966e+05</td>\n",
       "      <td>3.373200</td>\n",
       "      <td>2.115826</td>\n",
       "      <td>2080.321850</td>\n",
       "      <td>1.509941e+04</td>\n",
       "      <td>1.494096</td>\n",
       "      <td>0.007596</td>\n",
       "      <td>0.233863</td>\n",
       "      <td>3.409825</td>\n",
       "      <td>7.657915</td>\n",
       "      <td>1788.596842</td>\n",
       "      <td>1970.999676</td>\n",
       "      <td>83.636778</td>\n",
       "      <td>98077.951845</td>\n",
       "      <td>47.560093</td>\n",
       "      <td>-122.213982</td>\n",
       "      <td>1986.620318</td>\n",
       "      <td>12758.283512</td>\n",
       "    </tr>\n",
       "    <tr>\n",
       "      <th>std</th>\n",
       "      <td>2.876736e+09</td>\n",
       "      <td>3.673681e+05</td>\n",
       "      <td>0.926299</td>\n",
       "      <td>0.768984</td>\n",
       "      <td>918.106125</td>\n",
       "      <td>4.141264e+04</td>\n",
       "      <td>0.539683</td>\n",
       "      <td>0.086825</td>\n",
       "      <td>0.765686</td>\n",
       "      <td>0.650546</td>\n",
       "      <td>1.173200</td>\n",
       "      <td>827.759761</td>\n",
       "      <td>29.375234</td>\n",
       "      <td>399.946414</td>\n",
       "      <td>53.513072</td>\n",
       "      <td>0.138552</td>\n",
       "      <td>0.140724</td>\n",
       "      <td>685.230472</td>\n",
       "      <td>27274.441950</td>\n",
       "    </tr>\n",
       "    <tr>\n",
       "      <th>min</th>\n",
       "      <td>1.000102e+06</td>\n",
       "      <td>7.800000e+04</td>\n",
       "      <td>1.000000</td>\n",
       "      <td>0.500000</td>\n",
       "      <td>370.000000</td>\n",
       "      <td>5.200000e+02</td>\n",
       "      <td>1.000000</td>\n",
       "      <td>0.000000</td>\n",
       "      <td>0.000000</td>\n",
       "      <td>1.000000</td>\n",
       "      <td>3.000000</td>\n",
       "      <td>370.000000</td>\n",
       "      <td>1900.000000</td>\n",
       "      <td>0.000000</td>\n",
       "      <td>98001.000000</td>\n",
       "      <td>47.155900</td>\n",
       "      <td>-122.519000</td>\n",
       "      <td>399.000000</td>\n",
       "      <td>651.000000</td>\n",
       "    </tr>\n",
       "    <tr>\n",
       "      <th>25%</th>\n",
       "      <td>2.123049e+09</td>\n",
       "      <td>3.220000e+05</td>\n",
       "      <td>3.000000</td>\n",
       "      <td>1.750000</td>\n",
       "      <td>1430.000000</td>\n",
       "      <td>5.040000e+03</td>\n",
       "      <td>1.000000</td>\n",
       "      <td>0.000000</td>\n",
       "      <td>0.000000</td>\n",
       "      <td>3.000000</td>\n",
       "      <td>7.000000</td>\n",
       "      <td>1190.000000</td>\n",
       "      <td>1951.000000</td>\n",
       "      <td>0.000000</td>\n",
       "      <td>98033.000000</td>\n",
       "      <td>47.471100</td>\n",
       "      <td>-122.328000</td>\n",
       "      <td>1490.000000</td>\n",
       "      <td>5100.000000</td>\n",
       "    </tr>\n",
       "    <tr>\n",
       "      <th>50%</th>\n",
       "      <td>3.904930e+09</td>\n",
       "      <td>4.500000e+05</td>\n",
       "      <td>3.000000</td>\n",
       "      <td>2.250000</td>\n",
       "      <td>1910.000000</td>\n",
       "      <td>7.618000e+03</td>\n",
       "      <td>1.500000</td>\n",
       "      <td>0.000000</td>\n",
       "      <td>0.000000</td>\n",
       "      <td>3.000000</td>\n",
       "      <td>7.000000</td>\n",
       "      <td>1560.000000</td>\n",
       "      <td>1975.000000</td>\n",
       "      <td>0.000000</td>\n",
       "      <td>98065.000000</td>\n",
       "      <td>47.571800</td>\n",
       "      <td>-122.231000</td>\n",
       "      <td>1840.000000</td>\n",
       "      <td>7620.000000</td>\n",
       "    </tr>\n",
       "    <tr>\n",
       "      <th>75%</th>\n",
       "      <td>7.308900e+09</td>\n",
       "      <td>6.450000e+05</td>\n",
       "      <td>4.000000</td>\n",
       "      <td>2.500000</td>\n",
       "      <td>2550.000000</td>\n",
       "      <td>1.068500e+04</td>\n",
       "      <td>2.000000</td>\n",
       "      <td>0.000000</td>\n",
       "      <td>0.000000</td>\n",
       "      <td>4.000000</td>\n",
       "      <td>8.000000</td>\n",
       "      <td>2210.000000</td>\n",
       "      <td>1997.000000</td>\n",
       "      <td>0.000000</td>\n",
       "      <td>98118.000000</td>\n",
       "      <td>47.678000</td>\n",
       "      <td>-122.125000</td>\n",
       "      <td>2360.000000</td>\n",
       "      <td>10083.000000</td>\n",
       "    </tr>\n",
       "    <tr>\n",
       "      <th>max</th>\n",
       "      <td>9.900000e+09</td>\n",
       "      <td>7.700000e+06</td>\n",
       "      <td>33.000000</td>\n",
       "      <td>8.000000</td>\n",
       "      <td>13540.000000</td>\n",
       "      <td>1.651359e+06</td>\n",
       "      <td>3.500000</td>\n",
       "      <td>1.000000</td>\n",
       "      <td>4.000000</td>\n",
       "      <td>5.000000</td>\n",
       "      <td>13.000000</td>\n",
       "      <td>9410.000000</td>\n",
       "      <td>2015.000000</td>\n",
       "      <td>2015.000000</td>\n",
       "      <td>98199.000000</td>\n",
       "      <td>47.777600</td>\n",
       "      <td>-121.315000</td>\n",
       "      <td>6210.000000</td>\n",
       "      <td>871200.000000</td>\n",
       "    </tr>\n",
       "  </tbody>\n",
       "</table>\n",
       "</div>"
      ],
      "text/plain": [
       "                 id         price      bedrooms     bathrooms   sqft_living  \\\n",
       "count  2.159700e+04  2.159700e+04  21597.000000  21597.000000  21597.000000   \n",
       "mean   4.580474e+09  5.402966e+05      3.373200      2.115826   2080.321850   \n",
       "std    2.876736e+09  3.673681e+05      0.926299      0.768984    918.106125   \n",
       "min    1.000102e+06  7.800000e+04      1.000000      0.500000    370.000000   \n",
       "25%    2.123049e+09  3.220000e+05      3.000000      1.750000   1430.000000   \n",
       "50%    3.904930e+09  4.500000e+05      3.000000      2.250000   1910.000000   \n",
       "75%    7.308900e+09  6.450000e+05      4.000000      2.500000   2550.000000   \n",
       "max    9.900000e+09  7.700000e+06     33.000000      8.000000  13540.000000   \n",
       "\n",
       "           sqft_lot        floors    waterfront          view     condition  \\\n",
       "count  2.159700e+04  21597.000000  19221.000000  21534.000000  21597.000000   \n",
       "mean   1.509941e+04      1.494096      0.007596      0.233863      3.409825   \n",
       "std    4.141264e+04      0.539683      0.086825      0.765686      0.650546   \n",
       "min    5.200000e+02      1.000000      0.000000      0.000000      1.000000   \n",
       "25%    5.040000e+03      1.000000      0.000000      0.000000      3.000000   \n",
       "50%    7.618000e+03      1.500000      0.000000      0.000000      3.000000   \n",
       "75%    1.068500e+04      2.000000      0.000000      0.000000      4.000000   \n",
       "max    1.651359e+06      3.500000      1.000000      4.000000      5.000000   \n",
       "\n",
       "              grade    sqft_above      yr_built  yr_renovated       zipcode  \\\n",
       "count  21597.000000  21597.000000  21597.000000  17755.000000  21597.000000   \n",
       "mean       7.657915   1788.596842   1970.999676     83.636778  98077.951845   \n",
       "std        1.173200    827.759761     29.375234    399.946414     53.513072   \n",
       "min        3.000000    370.000000   1900.000000      0.000000  98001.000000   \n",
       "25%        7.000000   1190.000000   1951.000000      0.000000  98033.000000   \n",
       "50%        7.000000   1560.000000   1975.000000      0.000000  98065.000000   \n",
       "75%        8.000000   2210.000000   1997.000000      0.000000  98118.000000   \n",
       "max       13.000000   9410.000000   2015.000000   2015.000000  98199.000000   \n",
       "\n",
       "                lat          long  sqft_living15     sqft_lot15  \n",
       "count  21597.000000  21597.000000   21597.000000   21597.000000  \n",
       "mean      47.560093   -122.213982    1986.620318   12758.283512  \n",
       "std        0.138552      0.140724     685.230472   27274.441950  \n",
       "min       47.155900   -122.519000     399.000000     651.000000  \n",
       "25%       47.471100   -122.328000    1490.000000    5100.000000  \n",
       "50%       47.571800   -122.231000    1840.000000    7620.000000  \n",
       "75%       47.678000   -122.125000    2360.000000   10083.000000  \n",
       "max       47.777600   -121.315000    6210.000000  871200.000000  "
      ]
     },
     "execution_count": 6,
     "metadata": {},
     "output_type": "execute_result"
    }
   ],
   "source": [
    "df.describe()"
   ]
  },
  {
   "cell_type": "markdown",
   "metadata": {},
   "source": [
    "Let's also take a quick look at the first five rows of the dataframe"
   ]
  },
  {
   "cell_type": "markdown",
   "metadata": {},
   "source": [
    "**Immediate Observations:**\n",
    "* it includes data about apartment/house prices in 98 zip code (king county Washington)\n",
    "* for each sale, we have unique id (id), sale date (date), and other variables paired up with our dependent variale - house price (price)\n",
    "* variables come in differet data types - continuous (price, sqft_X, yr_built, yr_renovated, lat, long), categorical(bedrooms, bathrooms, floors, waterfront, view, zipcode), and other(date, id)\n",
    "* I have 21,597 rows and 21 columns"
   ]
  },
  {
   "cell_type": "markdown",
   "metadata": {},
   "source": [
    "## **Step 1: Clean Up Data**"
   ]
  },
  {
   "cell_type": "markdown",
   "metadata": {},
   "source": [
    "I want to find and fix: null values, typos, values stored as wrong data types, duplicates (just to ID)\n",
    "1. Null values\n",
    "    - waterfront: one thought is that null values means it was an inland location and waterfront availability wasn't applicable, but I want to be risk-averse and include these values instead\n",
    "    - view: again, don't want to make wront assumptions and the number of row is even lower, so I will drop\n",
    "    - yr_renovated: I believe it's safe to assume all of these null-values mean that the house was not renovated so the last \"renovation\" was the same as yr_built\n",
    "2. Data Types\n",
    "    - sqft_basement is stored as an object instead of int or float\n",
    "    - will have to change data type to numeric\n",
    "    - if not possible I'll look for typos and fix, then change data type\n",
    "3. Outliers\n",
    "    - bedroom max is 33, need to ID anything above 5 bedrooms and check for errors\n",
    "    - prices seem to have big delta between min and max, but it's sensible given the variety of properties sold\n",
    "    - sqft_lot min and max very different\n",
    "    - need to know what 3.5 floors means\n",
    "4. Duplicates\n",
    "    - Need to see if I have data on multiple sales for a single property\n",
    "    - This may be useful somehow, but at this point I'm not 100% sure how\n",
    "5. Convert Values Affected by Size\n",
    "    - this part is a little bit jumping ahead on avoiding multicolinearity, will keep updating as I work through the project\n",
    "    - the bigger the house, larger the floor 0 aka basement, so better to use a dummy instead"
   ]
  },
  {
   "cell_type": "markdown",
   "metadata": {},
   "source": [
    "**1.1 Null Values**"
   ]
  },
  {
   "cell_type": "code",
   "execution_count": 73,
   "metadata": {},
   "outputs": [],
   "source": [
    "#I created a new column yr_renovated_2 and filled it in with renovation years where available and built years where not\n",
    "#I chose to have an additional column instead of overwriting yr_renovated for clarity\n",
    "for i in range(0,len(df)):\n",
    "    if df.at[i,'yr_renovated'] > 10:\n",
    "        df.loc[i:i,'yr_renovated_2'] = df.at[i, 'yr_renovated']\n",
    "    else:\n",
    "        df.loc[i:i,'yr_renovated_2'] = df.at[i, 'yr_built']\n",
    "    \n",
    "#dropped all rows with view=nan\n",
    "df = df.dropna(subset = ['view'])\n",
    "#dropped all rows with waterfront=nan\n",
    "df= df.dropna(subset = ['waterfront'])"
   ]
  },
  {
   "cell_type": "markdown",
   "metadata": {},
   "source": [
    "Since I only left yr_renovated in for reference, we shouldn't care that it has some null values in for now\n",
    "\n",
    "\n",
    "**1.2 Data Types**"
   ]
  },
  {
   "cell_type": "code",
   "execution_count": 74,
   "metadata": {
    "scrolled": true
   },
   "outputs": [],
   "source": [
    "#dropped all rows with sqft_basement =?\n",
    "df= df.drop(df[df.sqft_basement == '?'].index)\n",
    "#turned sqft_basement into numeric type\n",
    "df['sqft_basement']= pd.to_numeric(df['sqft_basement'])\n",
    "#as I have built, renovation, or renovation_2 years now, they are categorical rather than holding any continuous value; what I\n",
    "#want to do is to measure the age of most recent renovation (how new/outdated is the paint on walls?)\n",
    "#I will make a column called renovation to measure this\n",
    "df['renovation'] = 2019 - df['yr_renovated_2']\n",
    "\n",
    "df['zip_means'] = df.zipcode.map(df.groupby('zipcode')['price'].mean())"
   ]
  },
  {
   "cell_type": "code",
   "execution_count": 75,
   "metadata": {},
   "outputs": [],
   "source": [
    "# I want to create simpler categorical variables from date and zicode\n",
    "spring = ['3/','4/','5/']\n",
    "summer = ['6/','7/','8/']\n",
    "fall = ['9/','10','11']\n",
    "def season(x):\n",
    "    if x[0:2] in spring :\n",
    "        return 1 # spring\n",
    "    elif x[0:2] in summer:\n",
    "        return 2 # summer\n",
    "    elif x[0:2] in fall:\n",
    "        return 3 # fall\n",
    "    else:\n",
    "        return 4 # winter\n",
    "\n",
    "df[\"season\"] = df[\"date\"].map(lambda x: season(x))\n",
    "\n",
    "df['neighborhood'] = df['zipcode'].map(lambda x: str(x)[0:4]) # gives me 19 variables instead of 70"
   ]
  },
  {
   "cell_type": "markdown",
   "metadata": {},
   "source": [
    "**1.3 Outliers**"
   ]
  },
  {
   "cell_type": "code",
   "execution_count": 76,
   "metadata": {
    "scrolled": false
   },
   "outputs": [
    {
     "name": "stdout",
     "output_type": "stream",
     "text": [
      "55\n",
      "55 seems like it may make sense to have large houses, maybe they are multi-family homes or lofts\n",
      "however I want to make sure they all are legit, so I will calculate sqft_living per bedroom\n",
      "15856     49.090909\n",
      "8748     272.727273\n",
      "16299    277.142857\n",
      "9068     285.000000\n",
      "19239    292.000000\n",
      "dtype: float64\n",
      "all rows, except the one with 33 bedrooms have 272+ sqft/bedroom; I assume they are ok to keep and only get rid of one row\n",
      "54\n"
     ]
    }
   ],
   "source": [
    "#bedrooms - first I want to see all houses that have more than 6 bedrooms, because It seems like a lot of bedrooms to me\n",
    "print(len(df[df['bedrooms']>6]))\n",
    "print('55 seems like it may make sense to have large houses, maybe they are multi-family homes or lofts')\n",
    "print('however I want to make sure they all are legit, so I will calculate sqft_living per bedroom')\n",
    "large_houses = df[df['bedrooms']>6]\n",
    "sqft_bedroom = (large_houses['sqft_living']/large_houses['bedrooms']).sort_values()\n",
    "print(sqft_bedroom[:5])\n",
    "print('all rows, except the one with 33 bedrooms have 272+ sqft/bedroom; I assume they are ok to keep and only get rid of one row')\n",
    "df= df.drop(df[df.bedrooms == 33].index)\n",
    "print(len(df[df['bedrooms']>6]))"
   ]
  },
  {
   "cell_type": "markdown",
   "metadata": {},
   "source": [
    "**1.4 Duplicates**"
   ]
  },
  {
   "cell_type": "code",
   "execution_count": 11,
   "metadata": {
    "scrolled": true
   },
   "outputs": [
    {
     "name": "stdout",
     "output_type": "stream",
     "text": [
      "we have 19163 sales for 19029 unique houses/apartments; 134 duplicates\n"
     ]
    }
   ],
   "source": [
    "print(\"we have \"+str(len(df))+\" sales for \"+str(df.id.nunique())+\" unique houses/apartments; \"+str(len(df)-df.id.nunique())+\" duplicates\")"
   ]
  },
  {
   "cell_type": "markdown",
   "metadata": {},
   "source": [
    "I want to keep these duplicates as they may create instances of properties that were sold and resold with features/characteristics that differ only slightly, it would give us a good comparison on how much those characteristics matter"
   ]
  },
  {
   "cell_type": "markdown",
   "metadata": {},
   "source": [
    "#### **1.5 Convert Values Affected by Size**"
   ]
  },
  {
   "cell_type": "code",
   "execution_count": 77,
   "metadata": {},
   "outputs": [],
   "source": [
    "#get a column for basement/no basement\n",
    "df['basement'] = df['sqft_basement']\n",
    "df.loc[df['sqft_basement']>0, 'basement'] = 1"
   ]
  },
  {
   "cell_type": "markdown",
   "metadata": {},
   "source": [
    "## **Step 2: Explore and Further Clean Up**"
   ]
  },
  {
   "cell_type": "markdown",
   "metadata": {},
   "source": [
    "1. Histograms: to visualize discrete variables\n",
    "2. Scatter plots: to visualize continuous variables\n",
    "3. Check out multicolinearity\n",
    "4. Additional Cleanup: after I take a look at plots and heatmap\n",
    "5. Redo visualizations and ID what needs to be scaled or turned into dummies"
   ]
  },
  {
   "cell_type": "markdown",
   "metadata": {},
   "source": [
    "#### **2.1 Histograms**"
   ]
  },
  {
   "cell_type": "code",
   "execution_count": 78,
   "metadata": {
    "scrolled": true
   },
   "outputs": [
    {
     "data": {
      "text/plain": [
       "0.007577793303595421"
      ]
     },
     "execution_count": 78,
     "metadata": {},
     "output_type": "execute_result"
    }
   ],
   "source": []
  },
  {
   "cell_type": "markdown",
   "metadata": {},
   "source": [
    "will not even bother showing the histogram for waterfront variable since most properties don't have it"
   ]
  },
  {
   "cell_type": "code",
   "execution_count": 155,
   "metadata": {
    "scrolled": false
   },
   "outputs": [],
   "source": [
    "house_type = ['basement', 'bathrooms', 'bedrooms', 'floors']\n",
    "grading = ['condition', 'grade' , 'season', 'view', 'waterfront']\n",
    "location = ['lat', 'long', 'zip']\n",
    "sizes = ['sqft_above', 'sqft_living', 'sqft_lot', 'sqft_basement']\n",
    "other_cont = ['sqft_living15', 'sqft_lot15','zip_means' , 'renovation']"
   ]
  },
  {
   "cell_type": "code",
   "execution_count": 80,
   "metadata": {},
   "outputs": [
    {
     "data": {
      "text/plain": [
       "array([[<matplotlib.axes._subplots.AxesSubplot object at 0x0000016FC5AE6668>,\n",
       "        <matplotlib.axes._subplots.AxesSubplot object at 0x0000016FC5942A90>],\n",
       "       [<matplotlib.axes._subplots.AxesSubplot object at 0x0000016FC5B0CCF8>,\n",
       "        <matplotlib.axes._subplots.AxesSubplot object at 0x0000016FC58EF0B8>]],\n",
       "      dtype=object)"
      ]
     },
     "execution_count": 80,
     "metadata": {},
     "output_type": "execute_result"
    },
    {
     "data": {
      "image/png": "[encoded data removed]",
      "text/plain": [
       "<Figure size 576x576 with 4 Axes>"
      ]
     },
     "metadata": {
      "needs_background": "light"
     },
     "output_type": "display_data"
    }
   ],
   "source": [
    "df[house_type].hist(figsize=(8,8))"
   ]
  },
  {
   "cell_type": "code",
   "execution_count": 156,
   "metadata": {
    "scrolled": false
   },
   "outputs": [
    {
     "data": {
      "text/plain": [
       "array([[<matplotlib.axes._subplots.AxesSubplot object at 0x0000016FCBF6F0F0>,\n",
       "        <matplotlib.axes._subplots.AxesSubplot object at 0x0000016FCBF858D0>],\n",
       "       [<matplotlib.axes._subplots.AxesSubplot object at 0x0000016FCBFADE10>,\n",
       "        <matplotlib.axes._subplots.AxesSubplot object at 0x0000016FCBFDC3C8>],\n",
       "       [<matplotlib.axes._subplots.AxesSubplot object at 0x0000016FCC004940>,\n",
       "        <matplotlib.axes._subplots.AxesSubplot object at 0x0000016FCC02CEB8>]],\n",
       "      dtype=object)"
      ]
     },
     "execution_count": 156,
     "metadata": {},
     "output_type": "execute_result"
    },
    {
     "data": {
      "image/png": "[encoded data removed]",
      "text/plain": [
       "<Figure size 576x576 with 6 Axes>"
      ]
     },
     "metadata": {
      "needs_background": "light"
     },
     "output_type": "display_data"
    }
   ],
   "source": [
    "df[grading].hist(figsize=(8,8))"
   ]
  },
  {
   "cell_type": "code",
   "execution_count": 161,
   "metadata": {},
   "outputs": [
    {
     "name": "stdout",
     "output_type": "stream",
     "text": [
      "waterfront histogram looks like it only has 0 values, but if you look closer you can see some 1 values\n",
      "we only have 141 waterfron properties in the data set, but I still want to keep the variable as one of the predictors\n"
     ]
    }
   ],
   "source": [
    "a = len(df.loc[df['waterfront']==1])\n",
    "print('waterfront histogram looks like it only has 0 values, but if you look closer you can see some 1 values')\n",
    "print('we only have '+str(a)+' waterfron properties in the data set, but I still want to keep the variable as one of the predictors')"
   ]
  },
  {
   "cell_type": "markdown",
   "metadata": {},
   "source": [
    "#### **2.2 Scatter Plots**"
   ]
  },
  {
   "cell_type": "code",
   "execution_count": 91,
   "metadata": {
    "scrolled": true
   },
   "outputs": [
    {
     "data": {
      "image/png": "[encoded data removed]",
      "text/plain": [
       "<Figure size 1080x216 with 4 Axes>"
      ]
     },
     "metadata": {
      "needs_background": "light"
     },
     "output_type": "display_data"
    }
   ],
   "source": [
    "import matplotlib.pyplot as plt\n",
    "%matplotlib inline\n",
    "\n",
    "fig, axs = plt.subplots(1, 4, sharey=True, figsize=(15, 3))\n",
    "for idx, predictor in enumerate(sizes):\n",
    "    df.plot(kind='scatter', x=predictor, y='price', ax=axs[idx], label=predictor)\n",
    "plt.legend()\n",
    "plt.show()"
   ]
  },
  {
   "cell_type": "markdown",
   "metadata": {},
   "source": [
    "Demonstrates that there's a more consistent tie between sqft_living and price than sqft_lot and price"
   ]
  },
  {
   "cell_type": "code",
   "execution_count": 92,
   "metadata": {
    "scrolled": true
   },
   "outputs": [
    {
     "data": {
      "image/png": "[encoded data removed]",
      "text/plain": [
       "<Figure size 1080x216 with 4 Axes>"
      ]
     },
     "metadata": {
      "needs_background": "light"
     },
     "output_type": "display_data"
    }
   ],
   "source": [
    "#adding a hue for a sale price or grading/condition\n",
    "#use seaborn with hue argument\n",
    "\n",
    "fig, axs = plt.subplots(1, 4, sharey=True, figsize=(15, 3))\n",
    "for idx, predictor in enumerate(other_cont):\n",
    "    df.plot(kind='scatter', x=predictor, y='price', ax=axs[idx], label=predictor)\n",
    "plt.legend()\n",
    "plt.show()"
   ]
  },
  {
   "cell_type": "markdown",
   "metadata": {},
   "source": [
    "#### **2.3 Multicolinearity**"
   ]
  },
  {
   "cell_type": "code",
   "execution_count": 93,
   "metadata": {
    "scrolled": true
   },
   "outputs": [
    {
     "data": {
      "image/png": "[encoded data removed]",
      "text/plain": [
       "<Figure size 432x288 with 2 Axes>"
      ]
     },
     "metadata": {
      "needs_background": "light"
     },
     "output_type": "display_data"
    }
   ],
   "source": [
    "all_pred = df.columns\n",
    "df_pred = df[all_pred]\n",
    "\n",
    "import seaborn as sns\n",
    "sns.heatmap(df_pred.corr(), center=0);"
   ]
  },
  {
   "cell_type": "markdown",
   "metadata": {},
   "source": [
    "#### **2.4 Additional Clean Up**"
   ]
  },
  {
   "cell_type": "markdown",
   "metadata": {},
   "source": [
    "* Sqft_X\n",
    "\n",
    "    -I can see that measurements are a problem because they overlap with other variables like the count of bedrooms and bathrooms and each other, so I will exclude them from the list of predictors in my model\n",
    "    \n",
    "    -I want to get rid of sqft columns, but I don't want to lose the sense of size, there's a difference between a 1,000sqft 2-bedroom and 400sqft 2-bedroom so I will add a column for sqft_bed aka sqft_living per bedroom\n",
    "    \n",
    "    \n",
    "* Other variables to remove:\n",
    "    - lat, long : overlap with zip\n",
    "    - id : I want to lose the sense of an individual house and assess them from the features perspective only; e.g. I want to treat the same property pre-renovation vs. post-renovation as completely different\n",
    "    - sqft_lot15, sqft_living15: I'm not sure exactly what these are so I will exclude for now (area of future improvement)\n",
    "    - yr_built, yr_renovated, yr_renovated_2 : will just keep \"renovated\" since it's the consolidated version\n",
    "    - grade: overlaps with bathrooms and size, will keep conidtion instead which seems like a good proxy"
   ]
  },
  {
   "cell_type": "code",
   "execution_count": 152,
   "metadata": {},
   "outputs": [],
   "source": [
    "df['sqft_bed'] = df['sqft_living']/df['bedrooms']\n",
    "\n",
    "\n",
    "clean_df = df.drop(['grade', 'sqft_living', 'sqft_lot', 'sqft_above', 'sqft_basement', 'yr_built', 'yr_renovated', 'yr_renovated_2','lat', 'long', 'id', 'sqft_lot15','sqft_living15' ], axis=1)\n",
    "\n",
    "outcome = 'price'"
   ]
  },
  {
   "cell_type": "code",
   "execution_count": 109,
   "metadata": {},
   "outputs": [
    {
     "data": {
      "text/html": [
       "<div>\n",
       "<style scoped>\n",
       "    .dataframe tbody tr th:only-of-type {\n",
       "        vertical-align: middle;\n",
       "    }\n",
       "\n",
       "    .dataframe tbody tr th {\n",
       "        vertical-align: top;\n",
       "    }\n",
       "\n",
       "    .dataframe thead th {\n",
       "        text-align: right;\n",
       "    }\n",
       "</style>\n",
       "<table border=\"1\" class=\"dataframe\">\n",
       "  <thead>\n",
       "    <tr style=\"text-align: right;\">\n",
       "      <th></th>\n",
       "      <th>date</th>\n",
       "      <th>price</th>\n",
       "      <th>bedrooms</th>\n",
       "      <th>bathrooms</th>\n",
       "      <th>sqft_living</th>\n",
       "      <th>floors</th>\n",
       "      <th>waterfront</th>\n",
       "      <th>view</th>\n",
       "      <th>grade</th>\n",
       "      <th>zipcode</th>\n",
       "      <th>renovation</th>\n",
       "      <th>zip_means</th>\n",
       "      <th>season</th>\n",
       "      <th>neighborhood</th>\n",
       "      <th>basement</th>\n",
       "      <th>sqft_bed</th>\n",
       "    </tr>\n",
       "  </thead>\n",
       "  <tbody>\n",
       "    <tr>\n",
       "      <th>1</th>\n",
       "      <td>12/9/2014</td>\n",
       "      <td>538000.0</td>\n",
       "      <td>3</td>\n",
       "      <td>2.25</td>\n",
       "      <td>2570</td>\n",
       "      <td>2.0</td>\n",
       "      <td>0.0</td>\n",
       "      <td>0.0</td>\n",
       "      <td>7</td>\n",
       "      <td>98125</td>\n",
       "      <td>28.0</td>\n",
       "      <td>464393.739496</td>\n",
       "      <td>4</td>\n",
       "      <td>9812</td>\n",
       "      <td>1.0</td>\n",
       "      <td>856.666667</td>\n",
       "    </tr>\n",
       "    <tr>\n",
       "      <th>2</th>\n",
       "      <td>2/25/2015</td>\n",
       "      <td>180000.0</td>\n",
       "      <td>2</td>\n",
       "      <td>1.00</td>\n",
       "      <td>770</td>\n",
       "      <td>1.0</td>\n",
       "      <td>0.0</td>\n",
       "      <td>0.0</td>\n",
       "      <td>6</td>\n",
       "      <td>98028</td>\n",
       "      <td>86.0</td>\n",
       "      <td>459067.800000</td>\n",
       "      <td>4</td>\n",
       "      <td>9802</td>\n",
       "      <td>0.0</td>\n",
       "      <td>385.000000</td>\n",
       "    </tr>\n",
       "    <tr>\n",
       "      <th>3</th>\n",
       "      <td>12/9/2014</td>\n",
       "      <td>604000.0</td>\n",
       "      <td>4</td>\n",
       "      <td>3.00</td>\n",
       "      <td>1960</td>\n",
       "      <td>1.0</td>\n",
       "      <td>0.0</td>\n",
       "      <td>0.0</td>\n",
       "      <td>7</td>\n",
       "      <td>98136</td>\n",
       "      <td>54.0</td>\n",
       "      <td>549230.468750</td>\n",
       "      <td>4</td>\n",
       "      <td>9813</td>\n",
       "      <td>1.0</td>\n",
       "      <td>490.000000</td>\n",
       "    </tr>\n",
       "    <tr>\n",
       "      <th>4</th>\n",
       "      <td>2/18/2015</td>\n",
       "      <td>510000.0</td>\n",
       "      <td>3</td>\n",
       "      <td>2.00</td>\n",
       "      <td>1680</td>\n",
       "      <td>1.0</td>\n",
       "      <td>0.0</td>\n",
       "      <td>0.0</td>\n",
       "      <td>8</td>\n",
       "      <td>98074</td>\n",
       "      <td>32.0</td>\n",
       "      <td>690835.244624</td>\n",
       "      <td>4</td>\n",
       "      <td>9807</td>\n",
       "      <td>0.0</td>\n",
       "      <td>560.000000</td>\n",
       "    </tr>\n",
       "    <tr>\n",
       "      <th>5</th>\n",
       "      <td>5/12/2014</td>\n",
       "      <td>1230000.0</td>\n",
       "      <td>4</td>\n",
       "      <td>4.50</td>\n",
       "      <td>5420</td>\n",
       "      <td>1.0</td>\n",
       "      <td>0.0</td>\n",
       "      <td>0.0</td>\n",
       "      <td>11</td>\n",
       "      <td>98053</td>\n",
       "      <td>18.0</td>\n",
       "      <td>671839.692958</td>\n",
       "      <td>1</td>\n",
       "      <td>9805</td>\n",
       "      <td>1.0</td>\n",
       "      <td>1355.000000</td>\n",
       "    </tr>\n",
       "  </tbody>\n",
       "</table>\n",
       "</div>"
      ],
      "text/plain": [
       "        date      price  bedrooms  bathrooms  sqft_living  floors  waterfront  \\\n",
       "1  12/9/2014   538000.0         3       2.25         2570     2.0         0.0   \n",
       "2  2/25/2015   180000.0         2       1.00          770     1.0         0.0   \n",
       "3  12/9/2014   604000.0         4       3.00         1960     1.0         0.0   \n",
       "4  2/18/2015   510000.0         3       2.00         1680     1.0         0.0   \n",
       "5  5/12/2014  1230000.0         4       4.50         5420     1.0         0.0   \n",
       "\n",
       "   view  grade  zipcode  renovation      zip_means  season neighborhood  \\\n",
       "1   0.0      7    98125        28.0  464393.739496       4         9812   \n",
       "2   0.0      6    98028        86.0  459067.800000       4         9802   \n",
       "3   0.0      7    98136        54.0  549230.468750       4         9813   \n",
       "4   0.0      8    98074        32.0  690835.244624       4         9807   \n",
       "5   0.0     11    98053        18.0  671839.692958       1         9805   \n",
       "\n",
       "   basement     sqft_bed  \n",
       "1       1.0   856.666667  \n",
       "2       0.0   385.000000  \n",
       "3       1.0   490.000000  \n",
       "4       0.0   560.000000  \n",
       "5       1.0  1355.000000  "
      ]
     },
     "execution_count": 109,
     "metadata": {},
     "output_type": "execute_result"
    }
   ],
   "source": [
    "clean_df.head()"
   ]
  },
  {
   "cell_type": "markdown",
   "metadata": {},
   "source": [
    "#### 2.5 Round 2 Visuals"
   ]
  },
  {
   "cell_type": "code",
   "execution_count": 153,
   "metadata": {
    "scrolled": true
   },
   "outputs": [
    {
     "data": {
      "image/png": "[encoded data removed]",
      "text/plain": [
       "<Figure size 432x288 with 1 Axes>"
      ]
     },
     "metadata": {
      "needs_background": "light"
     },
     "output_type": "display_data"
    }
   ],
   "source": [
    "clean_df.plot(kind='scatter', x='sqft_bed', y='price', label='sqft_living')\n",
    "plt.legend()\n",
    "plt.show()"
   ]
  },
  {
   "cell_type": "code",
   "execution_count": 154,
   "metadata": {
    "scrolled": true
   },
   "outputs": [
    {
     "data": {
      "image/png": "[encoded data removed]",
      "text/plain": [
       "<Figure size 432x288 with 2 Axes>"
      ]
     },
     "metadata": {
      "needs_background": "light"
     },
     "output_type": "display_data"
    }
   ],
   "source": [
    "predictors = clean_df.drop('price', axis=1).columns\n",
    "df_pred = clean_df[predictors]\n",
    "\n",
    "import seaborn as sns\n",
    "sns.heatmap(df_pred.corr(), center=0);"
   ]
  },
  {
   "cell_type": "markdown",
   "metadata": {},
   "source": [
    "The above heat map is \"colder\" than the last one so it's good"
   ]
  },
  {
   "cell_type": "markdown",
   "metadata": {},
   "source": [
    "## Step 3: Hypotheses"
   ]
  },
  {
   "cell_type": "markdown",
   "metadata": {},
   "source": [
    "<intro bla bla bla>. I would like to confidently (p<0.05 and adj. R^2>0.8) answer the follwoing questions:\n",
    "    1. What is the strongest indicator of the selling price of a house?\n",
    "    2. Is waterfront real estate more expensive?\n",
    "    3. Can I influence the selling price by choosing to sell during a specific time of the year?\n",
    "    4. Should I renovate before selling?"
   ]
  },
  {
   "cell_type": "markdown",
   "metadata": {},
   "source": [
    "## **Step 4: Model**"
   ]
  },
  {
   "cell_type": "markdown",
   "metadata": {},
   "source": [
    "1. Pick out key variables\n",
    "2. Scale variables (using log or something)\n",
    "3. Create model using OLS and take a look at coefficients and fit"
   ]
  },
  {
   "cell_type": "code",
   "execution_count": 119,
   "metadata": {},
   "outputs": [
    {
     "data": {
      "text/html": [
       "<div>\n",
       "<style scoped>\n",
       "    .dataframe tbody tr th:only-of-type {\n",
       "        vertical-align: middle;\n",
       "    }\n",
       "\n",
       "    .dataframe tbody tr th {\n",
       "        vertical-align: top;\n",
       "    }\n",
       "\n",
       "    .dataframe thead th {\n",
       "        text-align: right;\n",
       "    }\n",
       "</style>\n",
       "<table border=\"1\" class=\"dataframe\">\n",
       "  <thead>\n",
       "    <tr style=\"text-align: right;\">\n",
       "      <th></th>\n",
       "      <th>date</th>\n",
       "      <th>price</th>\n",
       "      <th>bedrooms</th>\n",
       "      <th>bathrooms</th>\n",
       "      <th>floors</th>\n",
       "      <th>waterfront</th>\n",
       "      <th>view</th>\n",
       "      <th>grade</th>\n",
       "      <th>zipcode</th>\n",
       "      <th>renovation</th>\n",
       "      <th>zip_means</th>\n",
       "      <th>season</th>\n",
       "      <th>neighborhood</th>\n",
       "      <th>basement</th>\n",
       "      <th>sqft_bed</th>\n",
       "    </tr>\n",
       "  </thead>\n",
       "  <tbody>\n",
       "    <tr>\n",
       "      <th>1</th>\n",
       "      <td>12/9/2014</td>\n",
       "      <td>538000.0</td>\n",
       "      <td>3</td>\n",
       "      <td>2.25</td>\n",
       "      <td>2.0</td>\n",
       "      <td>0.0</td>\n",
       "      <td>0.0</td>\n",
       "      <td>7</td>\n",
       "      <td>98125</td>\n",
       "      <td>28.0</td>\n",
       "      <td>464393.739496</td>\n",
       "      <td>4</td>\n",
       "      <td>9812</td>\n",
       "      <td>1.0</td>\n",
       "      <td>856.666667</td>\n",
       "    </tr>\n",
       "    <tr>\n",
       "      <th>2</th>\n",
       "      <td>2/25/2015</td>\n",
       "      <td>180000.0</td>\n",
       "      <td>2</td>\n",
       "      <td>1.00</td>\n",
       "      <td>1.0</td>\n",
       "      <td>0.0</td>\n",
       "      <td>0.0</td>\n",
       "      <td>6</td>\n",
       "      <td>98028</td>\n",
       "      <td>86.0</td>\n",
       "      <td>459067.800000</td>\n",
       "      <td>4</td>\n",
       "      <td>9802</td>\n",
       "      <td>0.0</td>\n",
       "      <td>385.000000</td>\n",
       "    </tr>\n",
       "    <tr>\n",
       "      <th>3</th>\n",
       "      <td>12/9/2014</td>\n",
       "      <td>604000.0</td>\n",
       "      <td>4</td>\n",
       "      <td>3.00</td>\n",
       "      <td>1.0</td>\n",
       "      <td>0.0</td>\n",
       "      <td>0.0</td>\n",
       "      <td>7</td>\n",
       "      <td>98136</td>\n",
       "      <td>54.0</td>\n",
       "      <td>549230.468750</td>\n",
       "      <td>4</td>\n",
       "      <td>9813</td>\n",
       "      <td>1.0</td>\n",
       "      <td>490.000000</td>\n",
       "    </tr>\n",
       "    <tr>\n",
       "      <th>4</th>\n",
       "      <td>2/18/2015</td>\n",
       "      <td>510000.0</td>\n",
       "      <td>3</td>\n",
       "      <td>2.00</td>\n",
       "      <td>1.0</td>\n",
       "      <td>0.0</td>\n",
       "      <td>0.0</td>\n",
       "      <td>8</td>\n",
       "      <td>98074</td>\n",
       "      <td>32.0</td>\n",
       "      <td>690835.244624</td>\n",
       "      <td>4</td>\n",
       "      <td>9807</td>\n",
       "      <td>0.0</td>\n",
       "      <td>560.000000</td>\n",
       "    </tr>\n",
       "    <tr>\n",
       "      <th>5</th>\n",
       "      <td>5/12/2014</td>\n",
       "      <td>1230000.0</td>\n",
       "      <td>4</td>\n",
       "      <td>4.50</td>\n",
       "      <td>1.0</td>\n",
       "      <td>0.0</td>\n",
       "      <td>0.0</td>\n",
       "      <td>11</td>\n",
       "      <td>98053</td>\n",
       "      <td>18.0</td>\n",
       "      <td>671839.692958</td>\n",
       "      <td>1</td>\n",
       "      <td>9805</td>\n",
       "      <td>1.0</td>\n",
       "      <td>1355.000000</td>\n",
       "    </tr>\n",
       "  </tbody>\n",
       "</table>\n",
       "</div>"
      ],
      "text/plain": [
       "        date      price  bedrooms  bathrooms  floors  waterfront  view  grade  \\\n",
       "1  12/9/2014   538000.0         3       2.25     2.0         0.0   0.0      7   \n",
       "2  2/25/2015   180000.0         2       1.00     1.0         0.0   0.0      6   \n",
       "3  12/9/2014   604000.0         4       3.00     1.0         0.0   0.0      7   \n",
       "4  2/18/2015   510000.0         3       2.00     1.0         0.0   0.0      8   \n",
       "5  5/12/2014  1230000.0         4       4.50     1.0         0.0   0.0     11   \n",
       "\n",
       "   zipcode  renovation      zip_means  season neighborhood  basement  \\\n",
       "1    98125        28.0  464393.739496       4         9812       1.0   \n",
       "2    98028        86.0  459067.800000       4         9802       0.0   \n",
       "3    98136        54.0  549230.468750       4         9813       1.0   \n",
       "4    98074        32.0  690835.244624       4         9807       0.0   \n",
       "5    98053        18.0  671839.692958       1         9805       1.0   \n",
       "\n",
       "      sqft_bed  \n",
       "1   856.666667  \n",
       "2   385.000000  \n",
       "3   490.000000  \n",
       "4   560.000000  \n",
       "5  1355.000000  "
      ]
     },
     "execution_count": 119,
     "metadata": {},
     "output_type": "execute_result"
    }
   ],
   "source": [
    "clean_df.head()"
   ]
  },
  {
   "cell_type": "code",
   "execution_count": 120,
   "metadata": {},
   "outputs": [],
   "source": [
    "import numpy as np #to scale variables\n",
    "import statsmodels.api as sm\n",
    "from statsmodels.formula.api import ols #to create model using OLS method"
   ]
  },
  {
   "cell_type": "code",
   "execution_count": 147,
   "metadata": {
    "scrolled": true
   },
   "outputs": [],
   "source": [
    "price = np.log(clean_df['price'])\n",
    "\n",
    "#normalize\n",
    "logsize = np.log(clean_df['sqft_bed'])\n",
    "logren = np.log(clean_df['renovation']) #may have to turn these into grouped categorical\n",
    "\n",
    "#scale\n",
    "scaled_ren = (logren-min(logren))/(max(logren)-min(logren))\n",
    "scaled_size = abs((logsize-min(logsize))/(max(logsize)-min(logsize)))\n",
    "\n",
    "#neighborhood prices\n",
    "logzipmeans = np.log(clean_df['zip_means'])\n",
    "\n",
    "#make dummies for all non-continuous variables\n",
    "model_data = pd.DataFrame([])\n",
    "model_data[\"sqft_living\"]= scaled_size\n",
    "model_data[\"renovation\"]= scaled_ren\n",
    "model_data[\"waterfront\"]= clean_df['waterfront']\n",
    "model_data[\"view\"]= clean_df['view']\n",
    "#model_data[\"basement\"]= clean_df['basement']\n",
    "model_data['bathrooms'] =clean_df['bathrooms']\n",
    "model_data['bedrooms'] =clean_df['bedrooms']\n",
    "model_data['floors'] =clean_df['floors']\n",
    "model_data['condition'] = clean_df['condition']\n",
    "season_dummies = pd.get_dummies(clean_df['season'], prefix=\"season\")\n",
    "\n",
    "model_data = pd.concat([price, model_data, season_dummies, logzipmeans], axis=1) "
   ]
  },
  {
   "cell_type": "code",
   "execution_count": 148,
   "metadata": {},
   "outputs": [
    {
     "data": {
      "text/html": [
       "<table class=\"simpletable\">\n",
       "<caption>OLS Regression Results</caption>\n",
       "<tr>\n",
       "  <th>Dep. Variable:</th>          <td>price</td>      <th>  R-squared:         </th> <td>   0.817</td>\n",
       "</tr>\n",
       "<tr>\n",
       "  <th>Model:</th>                   <td>OLS</td>       <th>  Adj. R-squared:    </th> <td>   0.817</td>\n",
       "</tr>\n",
       "<tr>\n",
       "  <th>Method:</th>             <td>Least Squares</td>  <th>  F-statistic:       </th> <td>   6973.</td>\n",
       "</tr>\n",
       "<tr>\n",
       "  <th>Date:</th>             <td>Fri, 05 Apr 2019</td> <th>  Prob (F-statistic):</th>  <td>  0.00</td> \n",
       "</tr>\n",
       "<tr>\n",
       "  <th>Time:</th>                 <td>06:50:52</td>     <th>  Log-Likelihood:    </th> <td>  1316.0</td>\n",
       "</tr>\n",
       "<tr>\n",
       "  <th>No. Observations:</th>      <td> 18748</td>      <th>  AIC:               </th> <td>  -2606.</td>\n",
       "</tr>\n",
       "<tr>\n",
       "  <th>Df Residuals:</th>          <td> 18735</td>      <th>  BIC:               </th> <td>  -2504.</td>\n",
       "</tr>\n",
       "<tr>\n",
       "  <th>Df Model:</th>              <td>    12</td>      <th>                     </th>     <td> </td>   \n",
       "</tr>\n",
       "<tr>\n",
       "  <th>Covariance Type:</th>      <td>nonrobust</td>    <th>                     </th>     <td> </td>   \n",
       "</tr>\n",
       "</table>\n",
       "<table class=\"simpletable\">\n",
       "<tr>\n",
       "       <td></td>          <th>coef</th>     <th>std err</th>      <th>t</th>      <th>P>|t|</th>  <th>[0.025</th>    <th>0.975]</th>  \n",
       "</tr>\n",
       "<tr>\n",
       "  <th>Intercept</th>   <td>    1.2626</td> <td>    0.045</td> <td>   28.324</td> <td> 0.000</td> <td>    1.175</td> <td>    1.350</td>\n",
       "</tr>\n",
       "<tr>\n",
       "  <th>sqft_living</th> <td>    1.7766</td> <td>    0.021</td> <td>   84.291</td> <td> 0.000</td> <td>    1.735</td> <td>    1.818</td>\n",
       "</tr>\n",
       "<tr>\n",
       "  <th>renovation</th>  <td>    0.0376</td> <td>    0.010</td> <td>    3.706</td> <td> 0.000</td> <td>    0.018</td> <td>    0.057</td>\n",
       "</tr>\n",
       "<tr>\n",
       "  <th>waterfront</th>  <td>    0.4149</td> <td>    0.021</td> <td>   19.862</td> <td> 0.000</td> <td>    0.374</td> <td>    0.456</td>\n",
       "</tr>\n",
       "<tr>\n",
       "  <th>view</th>        <td>    0.0890</td> <td>    0.002</td> <td>   36.023</td> <td> 0.000</td> <td>    0.084</td> <td>    0.094</td>\n",
       "</tr>\n",
       "<tr>\n",
       "  <th>bathrooms</th>   <td>    0.0459</td> <td>    0.004</td> <td>   12.024</td> <td> 0.000</td> <td>    0.038</td> <td>    0.053</td>\n",
       "</tr>\n",
       "<tr>\n",
       "  <th>bedrooms</th>    <td>    0.1387</td> <td>    0.002</td> <td>   57.388</td> <td> 0.000</td> <td>    0.134</td> <td>    0.143</td>\n",
       "</tr>\n",
       "<tr>\n",
       "  <th>floors</th>      <td>    0.0499</td> <td>    0.004</td> <td>   12.548</td> <td> 0.000</td> <td>    0.042</td> <td>    0.058</td>\n",
       "</tr>\n",
       "<tr>\n",
       "  <th>condition</th>   <td>    0.0407</td> <td>    0.003</td> <td>   14.509</td> <td> 0.000</td> <td>    0.035</td> <td>    0.046</td>\n",
       "</tr>\n",
       "<tr>\n",
       "  <th>season_1</th>    <td>    0.3499</td> <td>    0.011</td> <td>   30.502</td> <td> 0.000</td> <td>    0.327</td> <td>    0.372</td>\n",
       "</tr>\n",
       "<tr>\n",
       "  <th>season_2</th>    <td>    0.3061</td> <td>    0.012</td> <td>   26.546</td> <td> 0.000</td> <td>    0.284</td> <td>    0.329</td>\n",
       "</tr>\n",
       "<tr>\n",
       "  <th>season_3</th>    <td>    0.2964</td> <td>    0.012</td> <td>   25.643</td> <td> 0.000</td> <td>    0.274</td> <td>    0.319</td>\n",
       "</tr>\n",
       "<tr>\n",
       "  <th>season_4</th>    <td>    0.3101</td> <td>    0.012</td> <td>   26.899</td> <td> 0.000</td> <td>    0.288</td> <td>    0.333</td>\n",
       "</tr>\n",
       "<tr>\n",
       "  <th>zip_means</th>   <td>    0.7543</td> <td>    0.004</td> <td>  171.390</td> <td> 0.000</td> <td>    0.746</td> <td>    0.763</td>\n",
       "</tr>\n",
       "</table>\n",
       "<table class=\"simpletable\">\n",
       "<tr>\n",
       "  <th>Omnibus:</th>       <td>517.852</td> <th>  Durbin-Watson:     </th> <td>   1.993</td> \n",
       "</tr>\n",
       "<tr>\n",
       "  <th>Prob(Omnibus):</th> <td> 0.000</td>  <th>  Jarque-Bera (JB):  </th> <td>1319.866</td> \n",
       "</tr>\n",
       "<tr>\n",
       "  <th>Skew:</th>          <td>-0.018</td>  <th>  Prob(JB):          </th> <td>2.48e-287</td>\n",
       "</tr>\n",
       "<tr>\n",
       "  <th>Kurtosis:</th>      <td> 4.299</td>  <th>  Cond. No.          </th> <td>8.55e+16</td> \n",
       "</tr>\n",
       "</table><br/><br/>Warnings:<br/>[1] Standard Errors assume that the covariance matrix of the errors is correctly specified.<br/>[2] The smallest eigenvalue is 5.23e-28. This might indicate that there are<br/>strong multicollinearity problems or that the design matrix is singular."
      ],
      "text/plain": [
       "<class 'statsmodels.iolib.summary.Summary'>\n",
       "\"\"\"\n",
       "                            OLS Regression Results                            \n",
       "==============================================================================\n",
       "Dep. Variable:                  price   R-squared:                       0.817\n",
       "Model:                            OLS   Adj. R-squared:                  0.817\n",
       "Method:                 Least Squares   F-statistic:                     6973.\n",
       "Date:                Fri, 05 Apr 2019   Prob (F-statistic):               0.00\n",
       "Time:                        06:50:52   Log-Likelihood:                 1316.0\n",
       "No. Observations:               18748   AIC:                            -2606.\n",
       "Df Residuals:                   18735   BIC:                            -2504.\n",
       "Df Model:                          12                                         \n",
       "Covariance Type:            nonrobust                                         \n",
       "===============================================================================\n",
       "                  coef    std err          t      P>|t|      [0.025      0.975]\n",
       "-------------------------------------------------------------------------------\n",
       "Intercept       1.2626      0.045     28.324      0.000       1.175       1.350\n",
       "sqft_living     1.7766      0.021     84.291      0.000       1.735       1.818\n",
       "renovation      0.0376      0.010      3.706      0.000       0.018       0.057\n",
       "waterfront      0.4149      0.021     19.862      0.000       0.374       0.456\n",
       "view            0.0890      0.002     36.023      0.000       0.084       0.094\n",
       "bathrooms       0.0459      0.004     12.024      0.000       0.038       0.053\n",
       "bedrooms        0.1387      0.002     57.388      0.000       0.134       0.143\n",
       "floors          0.0499      0.004     12.548      0.000       0.042       0.058\n",
       "condition       0.0407      0.003     14.509      0.000       0.035       0.046\n",
       "season_1        0.3499      0.011     30.502      0.000       0.327       0.372\n",
       "season_2        0.3061      0.012     26.546      0.000       0.284       0.329\n",
       "season_3        0.2964      0.012     25.643      0.000       0.274       0.319\n",
       "season_4        0.3101      0.012     26.899      0.000       0.288       0.333\n",
       "zip_means       0.7543      0.004    171.390      0.000       0.746       0.763\n",
       "==============================================================================\n",
       "Omnibus:                      517.852   Durbin-Watson:                   1.993\n",
       "Prob(Omnibus):                  0.000   Jarque-Bera (JB):             1319.866\n",
       "Skew:                          -0.018   Prob(JB):                    2.48e-287\n",
       "Kurtosis:                       4.299   Cond. No.                     8.55e+16\n",
       "==============================================================================\n",
       "\n",
       "Warnings:\n",
       "[1] Standard Errors assume that the covariance matrix of the errors is correctly specified.\n",
       "[2] The smallest eigenvalue is 5.23e-28. This might indicate that there are\n",
       "strong multicollinearity problems or that the design matrix is singular.\n",
       "\"\"\""
      ]
     },
     "execution_count": 148,
     "metadata": {},
     "output_type": "execute_result"
    }
   ],
   "source": [
    "#regression itself\n",
    "outcome = 'price'\n",
    "predictors = model_data.drop('price' ,axis=1)\n",
    "\n",
    "pred_sum = \"+\".join(predictors.columns)\n",
    "formula = outcome + \"~\" + pred_sum\n",
    "\n",
    "model = ols(formula= formula, data = model_data).fit()\n",
    "model.summary()\n",
    "\n",
    "#model = ols(formula= formula, data=df).fit() #replace df by model_data when done scaling\n",
    "#model.summary()"
   ]
  },
  {
   "attachments": {},
   "cell_type": "markdown",
   "metadata": {},
   "source": [
    "## Step 5: Interpret the Output\n",
    "\n",
    "* R-squared of 0.81 means we can have 81% confidence that our model will predict the price accurately\n",
    "* Highest coefficient predictors are sqft_living, waterfront, and zip_means\n",
    "\n",
    "In order to estimate the housing price we must start with finding out its size in terms of living sqft, whether or not it's a waterfront property, and the average prices in its 5-digit zipcode area. Seasonality of the sale, having a basement, and the last renovation/built date do not seem to have a strong impact on the price. \n",
    "\n",
    "Watch outs:\n",
    "* low coefficient of renovation may be because of the zipcode layer - old houses also often tend to be located in expensive zipcodes; separating the two factors may allow us to revisit the importance of renovation\n",
    "* Estimating a price is not as useful from business perspective as estimating price per sqft/bedroom/or any other unit of measure; further step in this EDA would be to try and take a look at all of the above with price per square feet as our dependent variable"
   ]
  }
 ],
 "metadata": {
  "kernelspec": {
   "display_name": "Python 3",
   "language": "python",
   "name": "python3"
  },
  "language_info": {
   "codemirror_mode": {
    "name": "ipython",
    "version": 3
   },
   "file_extension": ".py",
   "mimetype": "text/x-python",
   "name": "python",
   "nbconvert_exporter": "python",
   "pygments_lexer": "ipython3",
   "version": "3.6.6"
  }
 },
 "nbformat": 4,
 "nbformat_minor": 2
}
